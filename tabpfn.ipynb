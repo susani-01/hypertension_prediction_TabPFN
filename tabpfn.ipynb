{
 "cells": [
  {
   "cell_type": "code",
   "execution_count": 12,
   "id": "08465ad8-2dcf-40d1-8ce0-547941374533",
   "metadata": {},
   "outputs": [],
   "source": [
    "import pandas as pd\n",
    "import numpy as np\n",
    "import math\n",
    "import seaborn as sns\n",
    "import matplotlib.pylab as plt\n",
    "from sklearn.preprocessing import StandardScaler,MinMaxScaler\n",
    "import tensorflow as tf\n",
    "from tensorflow.keras.models import Sequential\n",
    "from tensorflow.keras.layers import LSTM,Dense\n",
    "from sklearn.model_selection import train_test_split\n",
    "from sklearn.linear_model import LinearRegression\n",
    "from sklearn.metrics import mean_absolute_error,mean_squared_error,r2_score\n",
    "from scipy.stats import norm\n",
    "from scipy import stats\n",
    "%matplotlib inline"
   ]
  },
  {
   "cell_type": "markdown",
   "id": "5ec9dd82-c93b-4833-b0ed-d9c0f5fab43f",
   "metadata": {},
   "source": [
    "# **Prediction of hypertension disease using TabPfn model**"
   ]
  },
  {
   "cell_type": "markdown",
   "id": "448a6f45-c91e-44ef-b508-91265f43f1de",
   "metadata": {},
   "source": [
    "# dataset Preparation and Exploration"
   ]
  },
  {
   "cell_type": "code",
   "execution_count": 13,
   "id": "8c7832c0-0969-4a74-9478-7d4909a8331c",
   "metadata": {},
   "outputs": [],
   "source": [
    "demog = pd.read_csv(\"/Users/tony/Documents/research_projects/TabPFN/NHES dataset/demographic.csv\")\n",
    "quest = pd.read_csv(\"/Users/tony/Documents/research_projects/TabPFN/NHES dataset/questionnaire.csv\")\n",
    "exam = pd.read_csv(\"/Users/tony/Documents/research_projects/TabPFN/NHES dataset/Examination.csv\")\n",
    "labs = pd.read_csv(\"/Users/tony/Documents/research_projects/TabPFN/NHES dataset/labs.csv\")"
   ]
  },
  {
   "cell_type": "code",
   "execution_count": 14,
   "id": "820ea408-e81b-4df6-b854-cbd7de5910d7",
   "metadata": {},
   "outputs": [
    {
     "name": "stdout",
     "output_type": "stream",
     "text": [
      "    SEQN  SDDSRVYR  RIDSTATR  RIAGENDR  RIDAGEYR  RIDAGEMN  RIDRETH1  \\\n",
      "0  73557         8         2         1        69       NaN         4   \n",
      "1  73558         8         2         1        54       NaN         3   \n",
      "2  73559         8         2         1        72       NaN         3   \n",
      "3  73560         8         2         1         9       NaN         3   \n",
      "4  73561         8         2         2        73       NaN         3   \n",
      "\n",
      "   RIDRETH3  RIDEXMON  RIDEXAGM  ...  URXUTL  URDUTLLC  URXUTU  URDUTULC  \\\n",
      "0         4       1.0       NaN  ...     NaN       NaN     NaN       NaN   \n",
      "1         3       1.0       NaN  ...     NaN       NaN     NaN       NaN   \n",
      "2         3       2.0       NaN  ...     NaN       NaN     NaN       NaN   \n",
      "3         3       1.0     119.0  ...   0.062       0.0   0.238       0.0   \n",
      "4         3       1.0       NaN  ...     NaN       NaN     NaN       NaN   \n",
      "\n",
      "   URXUUR  URDUURLC  URXPREG  URXUAS  LBDB12  LBDB12SI  \n",
      "0     NaN       NaN      NaN     NaN   524.0     386.7  \n",
      "1     NaN       NaN      NaN     NaN   507.0     374.2  \n",
      "2     NaN       NaN      NaN     NaN   732.0     540.2  \n",
      "3  0.0071       0.0      NaN    3.83     NaN       NaN  \n",
      "4     NaN       NaN      NaN     NaN   225.0     166.1  \n",
      "\n",
      "[5 rows x 1645 columns]\n"
     ]
    }
   ],
   "source": [
    "#merging the dataset\n",
    "data = pd.merge(demog,quest,on=\"SEQN\")\n",
    "data = pd.merge(data,exam,on=\"SEQN\")\n",
    "data = pd.merge(data,labs,on='SEQN')\n",
    "print(data.head())"
   ]
  },
  {
   "cell_type": "code",
   "execution_count": 15,
   "id": "be5d6645-78b5-4830-a823-42f14d16e10a",
   "metadata": {},
   "outputs": [
    {
     "data": {
      "text/plain": [
       "False"
      ]
     },
     "execution_count": 15,
     "metadata": {},
     "output_type": "execute_result"
    }
   ],
   "source": [
    "pd.isnull(data['SEQN'].unique().sum())"
   ]
  },
  {
   "cell_type": "code",
   "execution_count": 16,
   "id": "2e52d753-a0cd-4544-b1eb-74410ec19dd4",
   "metadata": {},
   "outputs": [
    {
     "data": {
      "text/plain": [
       "array([167., 170., 126., 168., 201., 226.,  nan, 278., 173., 148., 131.,\n",
       "       154., 182., 135., 225., 202., 196., 198., 159., 166., 192., 185.,\n",
       "       189., 165., 151., 177., 150., 179., 227., 203., 161., 133., 200.,\n",
       "       141., 256., 171., 164., 238., 162., 186., 172., 274., 175., 204.,\n",
       "       195., 140., 210., 191., 271., 123., 146., 127., 193., 181., 206.,\n",
       "       176., 241., 142., 223., 188., 125., 187., 160., 243., 272., 184.,\n",
       "       230., 254., 174., 276., 255., 208., 214., 109., 149., 132., 213.,\n",
       "       155., 144., 120., 199., 152., 130., 209.,  98., 239., 234., 143.,\n",
       "       222., 246., 153., 121., 233., 183., 190., 261., 147., 106., 118.,\n",
       "       129., 220., 178., 250., 163., 157., 117., 245., 158., 122., 169.,\n",
       "       240., 145., 253., 237., 236., 180., 207., 216., 103., 138.,  90.,\n",
       "       205., 215., 116., 258., 219., 211., 156., 108., 113., 128., 247.,\n",
       "       137., 224., 134., 194., 249., 267., 235., 279., 248., 266., 301.,\n",
       "       139., 232., 252., 212., 251., 218., 197., 277., 221., 294., 228.,\n",
       "       262., 136., 112.,  95., 275., 124., 260., 259., 101., 242., 273.,\n",
       "       119., 100., 317., 296., 231., 270., 111., 257., 229., 264., 287.,\n",
       "       263., 114., 217., 102.,  83., 104., 306., 289.,  99., 290., 115.,\n",
       "       312., 280., 110., 311., 297., 244.,  94., 282., 105., 304., 284.,\n",
       "        89., 286., 309., 285., 300., 268.,  93., 325.,  92., 107., 269.,\n",
       "        96., 305., 265., 348., 333., 417., 315., 283.,  76., 281., 308.,\n",
       "       362.,  78., 292., 316., 354.,  97.,  82., 324., 346., 291., 330.,\n",
       "       380., 331., 293., 612., 463., 288.,  87., 313., 813., 345., 347.,\n",
       "       326., 332., 295.,  85., 343., 340., 329.,  69., 525., 302.,  91.,\n",
       "       322.])"
      ]
     },
     "execution_count": 16,
     "metadata": {},
     "output_type": "execute_result"
    }
   ],
   "source": [
    "data['LBXTC'].unique()"
   ]
  },
  {
   "cell_type": "code",
   "execution_count": 17,
   "id": "8b4a3496-bc44-4899-85a4-1faaa6a72369",
   "metadata": {},
   "outputs": [
    {
     "data": {
      "text/plain": [
       "SEQN           0\n",
       "SDDSRVYR       0\n",
       "RIDSTATR       0\n",
       "RIAGENDR       0\n",
       "RIDAGEYR       0\n",
       "            ... \n",
       "URDUURLC    7149\n",
       "URXPREG     8552\n",
       "URXUAS      7151\n",
       "LBDB12      4497\n",
       "LBDB12SI    4497\n",
       "Length: 1645, dtype: int64"
      ]
     },
     "execution_count": 17,
     "metadata": {},
     "output_type": "execute_result"
    }
   ],
   "source": [
    "data.isnull().sum()"
   ]
  },
  {
   "cell_type": "code",
   "execution_count": 18,
   "id": "e62955da-89f9-42f7-abe7-dcda3e11fd15",
   "metadata": {},
   "outputs": [],
   "source": [
    "sel_data = data[[\n",
    "    'SEQN',\n",
    "    'RIDAGEYR',\n",
    "    'RIAGENDR',\n",
    "    'RIDRETH3',\n",
    "    'SMQ020',\n",
    "    'ALQ130',\n",
    "    'BMXBMI',\n",
    "    'LBXTC',\n",
    "    'DIQ010',\n",
    "    'BPXSY1',\n",
    "    'BPXDI1'\n",
    "]]"
   ]
  },
  {
   "cell_type": "code",
   "execution_count": 19,
   "id": "0bdc3d30-0acf-4120-9b82-41782e47ac5d",
   "metadata": {},
   "outputs": [],
   "source": [
    "#rename the selected account\n",
    "sel_data = sel_data.rename(columns={\n",
    "    \n",
    "    'RIDAGEYR':'Age',\n",
    "    'RIAGENDR':'Gender',\n",
    "    'RIDRETH3':'Race',\n",
    "    'SMQ020':'Smoking',\n",
    "    'ALQ130':'Alcohol',\n",
    "    'BMXBMI':'BMI',\n",
    "    'LBXTC':'Cholesterol',\n",
    "    'DIQ010':'Diabetes',\n",
    "    'BPXSY1':'Systolic_BP',\n",
    "    'BPXDI1':'Diastolic_BP'\n",
    "})"
   ]
  },
  {
   "cell_type": "code",
   "execution_count": 23,
   "id": "e2bd09a3-5049-4258-92ac-2d4203fa15b0",
   "metadata": {},
   "outputs": [],
   "source": [
    "#selected_data.isnull().sum()"
   ]
  },
  {
   "cell_type": "code",
   "execution_count": 24,
   "id": "49d14c00-59bd-4b42-8bee-f10b06143a4e",
   "metadata": {},
   "outputs": [],
   "source": [
    "sel_data.loc[:,'Hypertension'] = (\n",
    "    (sel_data['Systolic_BP']>=140)|(sel_data['Diastolic_BP']>=90).astype(int)\n",
    ")\n",
    "\n",
    "#save the dataset\n",
    "sel_data.to_csv('Hypertension1_data.csv',index=False)"
   ]
  },
  {
   "cell_type": "code",
   "execution_count": 25,
   "id": "a7b54856-79f1-4e23-a60c-cdc1eb940811",
   "metadata": {},
   "outputs": [
    {
     "data": {
      "text/html": [
       "<div>\n",
       "<style scoped>\n",
       "    .dataframe tbody tr th:only-of-type {\n",
       "        vertical-align: middle;\n",
       "    }\n",
       "\n",
       "    .dataframe tbody tr th {\n",
       "        vertical-align: top;\n",
       "    }\n",
       "\n",
       "    .dataframe thead th {\n",
       "        text-align: right;\n",
       "    }\n",
       "</style>\n",
       "<table border=\"1\" class=\"dataframe\">\n",
       "  <thead>\n",
       "    <tr style=\"text-align: right;\">\n",
       "      <th></th>\n",
       "      <th>SEQN</th>\n",
       "      <th>Age</th>\n",
       "      <th>Gender</th>\n",
       "      <th>Race</th>\n",
       "      <th>Smoking</th>\n",
       "      <th>Alcohol</th>\n",
       "      <th>BMI</th>\n",
       "      <th>Cholesterol</th>\n",
       "      <th>Diabetes</th>\n",
       "      <th>Systolic_BP</th>\n",
       "      <th>Diastolic_BP</th>\n",
       "      <th>Hypertension</th>\n",
       "    </tr>\n",
       "  </thead>\n",
       "  <tbody>\n",
       "    <tr>\n",
       "      <th>0</th>\n",
       "      <td>73557</td>\n",
       "      <td>69</td>\n",
       "      <td>1</td>\n",
       "      <td>4</td>\n",
       "      <td>1.0</td>\n",
       "      <td>1.0</td>\n",
       "      <td>26.7</td>\n",
       "      <td>167.0</td>\n",
       "      <td>1.0</td>\n",
       "      <td>122.0</td>\n",
       "      <td>72.0</td>\n",
       "      <td>False</td>\n",
       "    </tr>\n",
       "    <tr>\n",
       "      <th>1</th>\n",
       "      <td>73558</td>\n",
       "      <td>54</td>\n",
       "      <td>1</td>\n",
       "      <td>3</td>\n",
       "      <td>1.0</td>\n",
       "      <td>4.0</td>\n",
       "      <td>28.6</td>\n",
       "      <td>170.0</td>\n",
       "      <td>1.0</td>\n",
       "      <td>156.0</td>\n",
       "      <td>62.0</td>\n",
       "      <td>True</td>\n",
       "    </tr>\n",
       "    <tr>\n",
       "      <th>2</th>\n",
       "      <td>73559</td>\n",
       "      <td>72</td>\n",
       "      <td>1</td>\n",
       "      <td>3</td>\n",
       "      <td>1.0</td>\n",
       "      <td>NaN</td>\n",
       "      <td>28.9</td>\n",
       "      <td>126.0</td>\n",
       "      <td>1.0</td>\n",
       "      <td>140.0</td>\n",
       "      <td>90.0</td>\n",
       "      <td>True</td>\n",
       "    </tr>\n",
       "    <tr>\n",
       "      <th>3</th>\n",
       "      <td>73560</td>\n",
       "      <td>9</td>\n",
       "      <td>1</td>\n",
       "      <td>3</td>\n",
       "      <td>NaN</td>\n",
       "      <td>NaN</td>\n",
       "      <td>17.1</td>\n",
       "      <td>168.0</td>\n",
       "      <td>2.0</td>\n",
       "      <td>108.0</td>\n",
       "      <td>38.0</td>\n",
       "      <td>False</td>\n",
       "    </tr>\n",
       "    <tr>\n",
       "      <th>4</th>\n",
       "      <td>73561</td>\n",
       "      <td>73</td>\n",
       "      <td>2</td>\n",
       "      <td>3</td>\n",
       "      <td>2.0</td>\n",
       "      <td>NaN</td>\n",
       "      <td>19.7</td>\n",
       "      <td>201.0</td>\n",
       "      <td>2.0</td>\n",
       "      <td>136.0</td>\n",
       "      <td>86.0</td>\n",
       "      <td>False</td>\n",
       "    </tr>\n",
       "  </tbody>\n",
       "</table>\n",
       "</div>"
      ],
      "text/plain": [
       "    SEQN  Age  Gender  Race  Smoking  Alcohol   BMI  Cholesterol  Diabetes  \\\n",
       "0  73557   69       1     4      1.0      1.0  26.7        167.0       1.0   \n",
       "1  73558   54       1     3      1.0      4.0  28.6        170.0       1.0   \n",
       "2  73559   72       1     3      1.0      NaN  28.9        126.0       1.0   \n",
       "3  73560    9       1     3      NaN      NaN  17.1        168.0       2.0   \n",
       "4  73561   73       2     3      2.0      NaN  19.7        201.0       2.0   \n",
       "\n",
       "   Systolic_BP  Diastolic_BP  Hypertension  \n",
       "0        122.0          72.0         False  \n",
       "1        156.0          62.0          True  \n",
       "2        140.0          90.0          True  \n",
       "3        108.0          38.0         False  \n",
       "4        136.0          86.0         False  "
      ]
     },
     "execution_count": 25,
     "metadata": {},
     "output_type": "execute_result"
    }
   ],
   "source": [
    "#selected_data.head()\n",
    "df = pd.read_csv('/Users/tony/Documents/research_projects/TabPFN/NHES dataset/model/Hypertension1_data.csv')\n",
    "df.head()"
   ]
  },
  {
   "cell_type": "code",
   "execution_count": 26,
   "id": "41709bb8-bce8-44fe-a7d5-056be8e13db8",
   "metadata": {},
   "outputs": [],
   "source": [
    "#prepare the dataset\n",
    "from sklearn.model_selection import train_test_split\n",
    "\n",
    "features = df[['Age','Gender','Race','Smoking','Alcohol','BMI','Cholesterol','Diabetes']]\n",
    "target = df['Hypertension']\n",
    "\n",
    "X_train,X_test,y_train,y_test = train_test_split(features,target,test_size = 0.3,random_state = 42)"
   ]
  },
  {
   "cell_type": "code",
   "execution_count": 27,
   "id": "b19b21f0-bbea-4010-9fc8-80af24e16943",
   "metadata": {},
   "outputs": [],
   "source": [
    "import pandas as pd\n",
    "from sklearn.impute import SimpleImputer\n",
    "\n",
    "# Define feature names\n",
    "num_features = ['Age', 'BMI', 'Cholesterol']\n",
    "cat_features = ['Smoking', 'Diabetes']\n",
    "\n",
    "# Impute numerical features\n",
    "num_imputer = SimpleImputer(strategy='median')\n",
    "X_train_num = pd.DataFrame(num_imputer.fit_transform(X_train[num_features]), columns=num_features)\n",
    "X_test_num = pd.DataFrame(num_imputer.transform(X_test[num_features]), columns=num_features)\n",
    "\n",
    "# Impute categorical features\n",
    "cat_imputer = SimpleImputer(strategy='most_frequent')\n",
    "X_train_cat = pd.DataFrame(cat_imputer.fit_transform(X_train[cat_features]), columns=cat_features)\n",
    "X_test_cat = pd.DataFrame(cat_imputer.transform(X_test[cat_features]), columns=cat_features)\n",
    "\n",
    "# Concatenate numerical and categorical features\n",
    "X_train_imputed = pd.concat([X_train_num, X_train_cat], axis=1)\n",
    "X_test_imputed = pd.concat([X_test_num, X_test_cat], axis=1)\n",
    "\n",
    "\n",
    "# Now, you can safely create new features\n",
    "X_train_imputed['Age_BMI'] = X_train_imputed['Age'] * X_train_imputed['BMI']\n",
    "X_train_imputed['Cholesterol_BMI'] = X_train_imputed['Cholesterol'] * X_train_imputed['BMI']\n",
    "\n",
    "X_test_imputed['Age_BMI'] = X_test_imputed['Age'] * X_test_imputed['BMI']\n",
    "X_test_imputed['Cholesterol_BMI'] = X_test_imputed['Cholesterol'] * X_test_imputed['BMI']\n"
   ]
  },
  {
   "cell_type": "code",
   "execution_count": 28,
   "id": "6a3c45bf-8d36-49fd-a9a9-21d75faf0333",
   "metadata": {},
   "outputs": [],
   "source": [
    "X_train_imputed['Age_BMI'] = X_train_imputed['Age']*X_train_imputed[\"BMI\"]\n",
    "X_train_imputed[\"Cholesterol_BMI\"] = X_train_imputed[\"Cholesterol\"]*X_train_imputed['BMI']\n",
    "\n",
    "X_test_imputed['Age_BMI'] = X_test_imputed['Age']*X_test_imputed[\"BMI\"]\n",
    "X_test_imputed[\"Cholesterol_BMI\"] = X_test_imputed[\"Cholesterol\"]*X_test_imputed['BMI']"
   ]
  },
  {
   "cell_type": "code",
   "execution_count": 29,
   "id": "8bc73a77-98bb-4af7-b7cc-f6b4af1d817d",
   "metadata": {},
   "outputs": [],
   "source": [
    "from sklearn.preprocessing import PolynomialFeatures\n",
    "\n",
    "poly = PolynomialFeatures(degree=2, include_bias=False)\n",
    "X_train_poly = poly.fit_transform(X_train_imputed)\n",
    "X_test_poly = poly.transform(X_test_imputed)\n"
   ]
  },
  {
   "cell_type": "code",
   "execution_count": 40,
   "id": "02341dd3-1710-495b-9f19-fe210f22ff64",
   "metadata": {},
   "outputs": [],
   "source": [
    "def create_domain_features(df):\n",
    "    \"\"\"Add Hypertension Risk, Pulse Pressure, etc.\"\"\"\n",
    "    # Hypertension Risk Score\n",
    "    df['Hypertension_Risk'] = 0.3*df['Age'] + 0.5*df['BMI'] + 0.2*df['Cholesterol']\n",
    "    \n",
    "    # Pulse Pressure\n",
    "    if 'Systolic_BP' in df.columns and 'Diastolic_BP' in df.columns:\n",
    "        df['Pulse_Pressure'] = df['Systolic_BP'] - df['Diastolic_BP']\n",
    "    \n",
    "    # Sodium-to-Potassium Ratio (if columns exist)\n",
    "    if 'DR1TSODI' in df.columns and 'DR1TPOTA' in df.columns:\n",
    "        df['Na_K_Ratio'] = df['DR1TSODI'] / (df['DR1TPOTA'] + 1e-8)  # Avoid division by zero\n",
    "    \n",
    "    return df\n",
    "\n",
    "# Apply to both splits\n",
    "X_train_domain = create_domain_features(X_train_imputed)\n",
    "X_test_domain = create_domain_features(X_test_imputed)"
   ]
  },
  {
   "cell_type": "code",
   "execution_count": null,
   "id": "2dbce0b7-366f-4166-85ba-ae06d2baf265",
   "metadata": {},
   "outputs": [],
   "source": []
  },
  {
   "cell_type": "code",
   "execution_count": null,
   "id": "211e9b92-7a28-4f35-a996-ec3a269643bb",
   "metadata": {},
   "outputs": [],
   "source": []
  },
  {
   "cell_type": "code",
   "execution_count": null,
   "id": "ab6b1d45-47b9-4b23-b579-be3f5c51b884",
   "metadata": {},
   "outputs": [],
   "source": [
    "#scaled dataset\n",
    "x_train_scaled = scaler.fit_transform(X_train_domain)\n",
    "x_test_scaled = scaler.transform(X_test_domain)"
   ]
  },
  {
   "cell_type": "code",
   "execution_count": null,
   "id": "35abe541-46b2-46e9-9aa7-e722152ee611",
   "metadata": {},
   "outputs": [],
   "source": []
  },
  {
   "cell_type": "code",
   "execution_count": 41,
   "id": "1f656949-5433-4dd1-be63-643de667f46b",
   "metadata": {},
   "outputs": [
    {
     "name": "stdout",
     "output_type": "stream",
     "text": [
      "Age            0.396685\n",
      "Gender        -0.029222\n",
      "Race           0.013840\n",
      "Smoking       -0.039448\n",
      "Alcohol        0.002067\n",
      "BMI            0.175629\n",
      "Cholesterol    0.158048\n",
      "Diabetes      -0.097621\n",
      "dtype: float64\n"
     ]
    }
   ],
   "source": [
    "#correlation of tha dataset\n",
    "corr = X_train.corrwith(y_train)\n",
    "print(corr)\n",
    "\n",
    "high_train_corrF = ['Age','BMI','Cholesterol']\n",
    "X_trainC = X_train[high_train_corrF]\n",
    "X_testC = X_test[high_train_corrF]"
   ]
  },
  {
   "cell_type": "markdown",
   "id": "b18ba86f-d6e8-48af-b18a-e9832dcb994e",
   "metadata": {},
   "source": [
    "# *Balancing the dataset using SMOTE*"
   ]
  },
  {
   "cell_type": "code",
   "execution_count": null,
   "id": "4a4ba5b5-4674-415d-9ba1-489c9aea48f3",
   "metadata": {},
   "outputs": [],
   "source": [
    "from imblearn.over_sampling import SMOTE,ADASYN\n",
    "from imblearn.under_sampling import RandomUnderSampler\n",
    "\n",
    "#undersamp = RandomUnderSampler(sampling_strategy='majority',random_state=42)\n",
    "\n",
    "smote = SMOTE()\n",
    "ada = ADASYN(random_state=42)\n",
    "X_trainR,y_trainR = smote.fit_resample(X_train_domain,y_train)\n",
    "#X_trainR,y_trainR = undersamp.fit_resample(X_train_imputed,y_train)"
   ]
  },
  {
   "cell_type": "markdown",
   "id": "97372960-42bb-4200-8f45-9882e9216f30",
   "metadata": {},
   "source": [
    "# *Training start here*"
   ]
  },
  {
   "cell_type": "code",
   "execution_count": null,
   "id": "ae6d2996-0b2a-4083-b9d7-cb87618fd22f",
   "metadata": {},
   "outputs": [],
   "source": [
    "from tabpfn import TabPFNClassifier\n",
    "from sklearn.metrics import accuracy_score\n",
    "from sklearn.ensemble import StackingClassifier\n",
    "from xgboost import XGBClassifier\n",
    "from sklearn.linear_model import LogisticRegression"
   ]
  },
  {
   "cell_type": "markdown",
   "id": "1320d29e-0566-4637-9bda-3609b49182c0",
   "metadata": {},
   "source": [
    "# *Train using TabPFN*"
   ]
  },
  {
   "cell_type": "code",
   "execution_count": 47,
   "id": "d6ef7387-7aab-4351-9650-0a4fd1e96907",
   "metadata": {},
   "outputs": [
    {
     "name": "stdout",
     "output_type": "stream",
     "text": [
      "Accuracy 0.9086277173913043\n"
     ]
    }
   ],
   "source": [
    "#Train the TabPFN\n",
    "tabpfn = TabPFNClassifier(device='cpu')\n",
    "\n",
    "tabpfn.fit(x_train_scaled,y_train)\n",
    "predictions = tabpfn.predict(x_test_scaled)\n",
    "print(\"Accuracy\",accuracy_score(y_test,predictions))"
   ]
  },
  {
   "cell_type": "code",
   "execution_count": null,
   "id": "02978d0d-350c-4a87-812c-3b131a6bbc21",
   "metadata": {},
   "outputs": [],
   "source": [
    "\n",
    "from sklearn.model_selection import cross_val_score\n",
    "\n",
    "scores = cross_val_score(tabpfn,X_train,y_train,cv=5,scoring='accuracy')\n",
    "print(\"CV\",scores.mean())"
   ]
  },
  {
   "cell_type": "code",
   "execution_count": null,
   "id": "55711f6c-d09e-4546-9f4c-52dc89cf5eae",
   "metadata": {},
   "outputs": [],
   "source": [
    "\n",
    "import shap\n",
    "\n",
    "X = np.array(X_test)\n",
    "explainer = shap.Explainer(tabpfn.predict_proba(X_test),X_trainR)\n",
    "shap_value = explainer(X_trainR)\n",
    "shap.summary_plot(shap_value,X_train)"
   ]
  },
  {
   "cell_type": "markdown",
   "id": "cebd14d2-3c54-4d39-877e-aaa95e24f8e7",
   "metadata": {},
   "source": [
    "# *Train using logistic regression*\n"
   ]
  },
  {
   "cell_type": "code",
   "execution_count": 48,
   "id": "c4ec89c2-b12e-4019-be65-5073457620de",
   "metadata": {},
   "outputs": [
    {
     "name": "stdout",
     "output_type": "stream",
     "text": [
      "Accuracy 0.9035326086956522\n"
     ]
    },
    {
     "name": "stderr",
     "output_type": "stream",
     "text": [
      "/Library/Frameworks/Python.framework/Versions/3.12/lib/python3.12/site-packages/sklearn/linear_model/_logistic.py:465: ConvergenceWarning: lbfgs failed to converge (status=1):\n",
      "STOP: TOTAL NO. of ITERATIONS REACHED LIMIT.\n",
      "\n",
      "Increase the number of iterations (max_iter) or scale the data as shown in:\n",
      "    https://scikit-learn.org/stable/modules/preprocessing.html\n",
      "Please also refer to the documentation for alternative solver options:\n",
      "    https://scikit-learn.org/stable/modules/linear_model.html#logistic-regression\n",
      "  n_iter_i = _check_optimize_result(\n"
     ]
    }
   ],
   "source": [
    "from sklearn.linear_model import LogisticRegression\n",
    "from sklearn.preprocessing import StandardScaler\n",
    "\n",
    "scaler = StandardScaler()\n",
    "# x_train_scaled = scaler.fit_transform(X_train_domain)\n",
    "# x_test_scaled = scaler.transform(X_test_domain)\n",
    "lr = LogisticRegression()\n",
    "lr.fit(X_train_domain,y_train)\n",
    "\n",
    "y_pred = lr.predict(X_test_domain)\n",
    "print(\"Accuracy\",accuracy_score(y_test,y_pred))"
   ]
  },
  {
   "cell_type": "code",
   "execution_count": null,
   "id": "e98825ef-54c7-4789-8863-57e5f27718e6",
   "metadata": {},
   "outputs": [],
   "source": []
  },
  {
   "cell_type": "code",
   "execution_count": 49,
   "id": "efe984fb-7156-42f0-bf15-2c7a6dc378bd",
   "metadata": {},
   "outputs": [
    {
     "name": "stdout",
     "output_type": "stream",
     "text": [
      "Accuracy: 0.9042119565217391\n"
     ]
    },
    {
     "name": "stderr",
     "output_type": "stream",
     "text": [
      "/Library/Frameworks/Python.framework/Versions/3.12/lib/python3.12/site-packages/xgboost/training.py:183: UserWarning: [02:44:04] WARNING: /Users/runner/work/xgboost/xgboost/src/learner.cc:738: \n",
      "Parameters: { \"eval_metrics\", \"objectives\", \"use_label_encoder\" } are not used.\n",
      "\n",
      "  bst.update(dtrain, iteration=i, fobj=obj)\n"
     ]
    }
   ],
   "source": [
    "import xgboost as xgb\n",
    "\n",
    "xgb_model = xgb.XGBClassifier(\n",
    "    objectives='binary:logistic',\n",
    "    eval_metrics = 'logloss',\n",
    "    use_label_encoder=False,\n",
    "    n_estimators=100,\n",
    "    learning_rate = 0.1,\n",
    "    max_depth=5,\n",
    "    random_state=42\n",
    ")\n",
    "\n",
    "xgb_model.fit(x_train_scaled,y_train)\n",
    "\n",
    "#predict class labels\n",
    "y_pred = xgb_model.predict(x_test_scaled)\n",
    "print(\"Accuracy:\",accuracy_score(y_test,y_pred))"
   ]
  },
  {
   "cell_type": "code",
   "execution_count": 38,
   "id": "7e1d99c4-a03b-4a80-8ef5-c9d932b4ceec",
   "metadata": {},
   "outputs": [],
   "source": [
    "from sklearn.preprocessing import MinMaxScaler\n",
    "\n",
    "scaler = MinMaxScaler()\n",
    "X_train_max = scaler.fit_transform(X_train_imputed)\n",
    "X_test_max = scaler.transform(X_test_imputed)\n"
   ]
  },
  {
   "cell_type": "code",
   "execution_count": null,
   "id": "cf661162-c0ac-49fa-b215-4c763683920d",
   "metadata": {
    "scrolled": true
   },
   "outputs": [],
   "source": [
    "#explanations of a dataset\n",
    "import shap\n",
    "\n",
    "explainer = shap.Explainer(xgb_model)\n",
    "shap_values = explainer(x_train_scaled)\n",
    "\n",
    "shap.summary_plot(shap_values,x_train_scaled)\n"
   ]
  },
  {
   "cell_type": "code",
   "execution_count": 57,
   "id": "c59a7e17-3b30-4025-8d06-b7cce0b13e6a",
   "metadata": {},
   "outputs": [
    {
     "name": "stdout",
     "output_type": "stream",
     "text": [
      "0.9086277173913043\n",
      "0.0\n",
      "0.0\n"
     ]
    },
    {
     "name": "stderr",
     "output_type": "stream",
     "text": [
      "/Library/Frameworks/Python.framework/Versions/3.12/lib/python3.12/site-packages/sklearn/metrics/_classification.py:1565: UndefinedMetricWarning: Precision is ill-defined and being set to 0.0 due to no predicted samples. Use `zero_division` parameter to control this behavior.\n",
      "  _warn_prf(average, modifier, f\"{metric.capitalize()} is\", len(result))\n"
     ]
    }
   ],
   "source": [
    "from sklearn.metrics import accuracy_score, precision_score, recall_score, f1_score,confusion_matrix\n",
    "\n",
    "accuracy = accuracy_score(y_test, predictions)\n",
    "precision = precision_score(y_test, predictions)\n",
    "recall = recall_score(y_test, predictions)\n",
    "f1 = f1_score(y_test, predictions)\n",
    "specificity = confusion_matrix(y_test, predictions)[0, 0] / (confusion_matrix(y_test, predictions)[0, 0] + confusion_matrix(y_test, predictions)[0, 1])\n",
    "\n",
    "print(accuracy)\n",
    "print(precision)\n",
    "print(recall)"
   ]
  },
  {
   "cell_type": "markdown",
   "id": "d5f87fc7-f022-4e88-b5ec-1731632e5236",
   "metadata": {},
   "source": [
    "\n"
   ]
  },
  {
   "cell_type": "markdown",
   "id": "9fa5d1a6-bf42-4c50-a49e-5e6238813fb2",
   "metadata": {},
   "source": [
    "# *Comparison of the models*"
   ]
  },
  {
   "cell_type": "code",
   "execution_count": null,
   "id": "42889dfa-4115-4b5a-b881-c01b8a0ee1f4",
   "metadata": {},
   "outputs": [],
   "source": [
    "from sklearn.metrics import accuracy_score\n",
    "from mlxtend.evaluate import paired_ttest\n",
    "\n",
    "# Get predictions from all models\n",
    "y_pred_tabpfn = predictions\n",
    "y_pred_xgb = xgb_model.predict(X_test)\n",
    "y_pred_lr = lr_model.predict(X_test)\n",
    "\n",
    "# Compare TabPFN vs. XGBoost\n",
    "t_stat, p_value = paired_ttest(\n",
    "    y_pred_tabpfn, y_pred_xgb, y_test,\n",
    "    method=\"auto\"\n",
    ")\n",
    "print(f\"TabPFN vs. XGBoost p-value: {p_value}\")"
   ]
  }
 ],
 "metadata": {
  "kernelspec": {
   "display_name": "Python 3 (ipykernel)",
   "language": "python",
   "name": "python3"
  },
  "language_info": {
   "codemirror_mode": {
    "name": "ipython",
    "version": 3
   },
   "file_extension": ".py",
   "mimetype": "text/x-python",
   "name": "python",
   "nbconvert_exporter": "python",
   "pygments_lexer": "ipython3",
   "version": "3.12.4"
  }
 },
 "nbformat": 4,
 "nbformat_minor": 5
}
